{
 "cells": [
  {
   "cell_type": "markdown",
   "metadata": {},
   "source": [
    "# Jupyter Handbook"
   ]
  },
  {
   "cell_type": "markdown",
   "metadata": {},
   "source": [
    "The name Jupyter is an indirect acronym of the three core languages it was designed for: **JU**lia, **PYT**hon, and **R** and is inspired by the planet Jupiter."
   ]
  },
  {
   "cell_type": "markdown",
   "metadata": {},
   "source": [
    "A great benefit of Jupyter Notebook is that it allows you to combine both code (e.g. Python) and Markdown in one document, so that you can easily document and comment your code."
   ]
  },
  {
   "cell_type": "markdown",
   "metadata": {},
   "source": [
    "By being able to include both code and markdown in a single notebook you are able to:\n",
    "- Describe the data you are using for you analysis\n",
    "- Comment your data processing algorithms\n",
    "- Interpret the result of your outputs"
   ]
  },
  {
   "cell_type": "markdown",
   "metadata": {},
   "source": [
    "# Table of Contents<a id=\"table_of_contents\"></a>"
   ]
  },
  {
   "cell_type": "markdown",
   "metadata": {},
   "source": [
    "### 1. [Shortcut Keys](#shortcut_keys)\n",
    "   * [1.1 Shortcuts in both modes](#skey_bm)\n",
    "   * [1.2 Command mode](#cm)\n",
    "   * [1.3 Edit mode](#em)\n",
    "   \n",
    "### 2. [Markdown Basics](#markdown)\n",
    "   * [2.1 Text styling](#ts)\n",
    "   * [2.2 Lists](#li)\n",
    "   * [2.3 Code & Mathematical Equations](#cme)\n",
    "   * [2.4 Links & Images](#l&i)"
   ]
  },
  {
   "cell_type": "markdown",
   "metadata": {},
   "source": [
    "# 1 Shortcut Keys<a id=\"shortcut_keys\"></a>"
   ]
  },
  {
   "cell_type": "markdown",
   "metadata": {},
   "source": [
    "To facilitate text and code entry there are several shortcuts. I have listed the most important shortcut keys below. To find a full list of shortcut keys you just have to press the H key, or via the menu Help > Keyboard Shortcuts."
   ]
  },
  {
   "cell_type": "markdown",
   "metadata": {},
   "source": [
    "There are 2 modes in Jupyter Notebooks:\n",
    "\n",
    "- **Command Mode:** Binds the keyboard to notebook level actions. Indicated by a grey cell border with a blue left margin.\n",
    "- **Edit Mode:** When you’re typing in a cell. Indicated by a green cell border.\n"
   ]
  },
  {
   "cell_type": "markdown",
   "metadata": {},
   "source": [
    "## 1.1 Shortcuts in both modes<a id=\"skey_bm\"></a>"
   ]
  },
  {
   "cell_type": "markdown",
   "metadata": {},
   "source": [
    "- **Shift + Enter:** Run the current cell, select below."
   ]
  },
  {
   "cell_type": "markdown",
   "metadata": {},
   "source": [
    "- **Ctrl + Enter:** Run selected cells."
   ]
  },
  {
   "cell_type": "markdown",
   "metadata": {},
   "source": [
    "- **Alt + Enter:** Run current cell, insert a cell below."
   ]
  },
  {
   "cell_type": "markdown",
   "metadata": {},
   "source": [
    "- **Ctrl + S:** Save and checkpoint."
   ]
  },
  {
   "cell_type": "markdown",
   "metadata": {},
   "source": [
    "## 1.2 Command mode<a id=\"cm\"></a>"
   ]
  },
  {
   "cell_type": "markdown",
   "metadata": {},
   "source": [
    "- **H:** Show keyboard shortcuts."
   ]
  },
  {
   "cell_type": "markdown",
   "metadata": {},
   "source": [
    "#### Selecting Cells "
   ]
  },
  {
   "cell_type": "markdown",
   "metadata": {},
   "source": [
    "- **Up/Down Arrows:** Select cell above/below."
   ]
  },
  {
   "cell_type": "markdown",
   "metadata": {},
   "source": [
    "- **Shift + Up:** Extend selected cells above."
   ]
  },
  {
   "cell_type": "markdown",
   "metadata": {},
   "source": [
    "- **Shift + Down:** Extend selected cells below."
   ]
  },
  {
   "cell_type": "markdown",
   "metadata": {},
   "source": [
    "- **Enter:** Enter edit mode."
   ]
  },
  {
   "cell_type": "markdown",
   "metadata": {},
   "source": [
    "#### Inserting and Copying Cells"
   ]
  },
  {
   "cell_type": "markdown",
   "metadata": {},
   "source": [
    "- **A:** Insert cell above."
   ]
  },
  {
   "cell_type": "markdown",
   "metadata": {},
   "source": [
    "- **B**: Insert cell below."
   ]
  },
  {
   "cell_type": "markdown",
   "metadata": {},
   "source": [
    "- **X:** Cut selected cells."
   ]
  },
  {
   "cell_type": "markdown",
   "metadata": {},
   "source": [
    "- **C:** Copy selected cells."
   ]
  },
  {
   "cell_type": "markdown",
   "metadata": {},
   "source": [
    "- **V:** Paste cells below."
   ]
  },
  {
   "cell_type": "markdown",
   "metadata": {},
   "source": [
    "- **Shift + V:** Paste cells above."
   ]
  },
  {
   "cell_type": "markdown",
   "metadata": {},
   "source": [
    "#### Deleting Cells"
   ]
  },
  {
   "cell_type": "markdown",
   "metadata": {},
   "source": [
    "- **D, D:** Delete selected cells"
   ]
  },
  {
   "cell_type": "markdown",
   "metadata": {},
   "source": [
    "- **Z:** Undo cell deletion."
   ]
  },
  {
   "cell_type": "markdown",
   "metadata": {},
   "source": [
    "#### Changing the Cell Type"
   ]
  },
  {
   "cell_type": "markdown",
   "metadata": {},
   "source": [
    "- **Y:** Change cell type to *Code*."
   ]
  },
  {
   "cell_type": "markdown",
   "metadata": {},
   "source": [
    "- **M:** Change cell type to *Markdown*."
   ]
  },
  {
   "cell_type": "markdown",
   "metadata": {},
   "source": [
    "- **R:** Change cell type to *Raw*."
   ]
  },
  {
   "cell_type": "markdown",
   "metadata": {},
   "source": [
    "#### Navigating the Notebook"
   ]
  },
  {
   "cell_type": "markdown",
   "metadata": {},
   "source": [
    "- **Shift + Space:** Scroll notebook up."
   ]
  },
  {
   "cell_type": "markdown",
   "metadata": {},
   "source": [
    "- **Space:** Scroll notebook down."
   ]
  },
  {
   "cell_type": "markdown",
   "metadata": {},
   "source": [
    "#### Header Formatting"
   ]
  },
  {
   "cell_type": "markdown",
   "metadata": {},
   "source": [
    "- **1, 2, 3, 4, 5, 6:** Formatting cells as header 1-6."
   ]
  },
  {
   "cell_type": "markdown",
   "metadata": {},
   "source": [
    "## 1.3 Edit mode<a id=\"em\"></a>"
   ]
  },
  {
   "cell_type": "markdown",
   "metadata": {},
   "source": [
    "- **Esc:** Go to command mode."
   ]
  },
  {
   "cell_type": "markdown",
   "metadata": {},
   "source": [
    "- **Tab:** code completion or indentation."
   ]
  },
  {
   "cell_type": "markdown",
   "metadata": {},
   "source": [
    "- **Ctrl + D:** Delete whole line."
   ]
  },
  {
   "cell_type": "markdown",
   "metadata": {},
   "source": [
    "- **Ctrl + Z:** Undo."
   ]
  },
  {
   "cell_type": "markdown",
   "metadata": {},
   "source": [
    "- **Ctrl + Y** or **Ctrl + Shift + Z:** Redo."
   ]
  },
  {
   "cell_type": "markdown",
   "metadata": {},
   "source": [
    "- **Ctrl + Home:** Go to cell start."
   ]
  },
  {
   "cell_type": "markdown",
   "metadata": {},
   "source": [
    "- **Ctrl + End:** Go to cell end."
   ]
  },
  {
   "cell_type": "markdown",
   "metadata": {},
   "source": [
    "- **Ctrl + Left/Right:** Go one word left/right."
   ]
  },
  {
   "cell_type": "markdown",
   "metadata": {},
   "source": [
    "# 2 Markdown Basics<a id=\"markdown\"></a>"
   ]
  },
  {
   "cell_type": "markdown",
   "metadata": {},
   "source": [
    "Text can be added to Jupyter Notebooks using Markdown cells. Markdown is a popular markup language that is a superset of HTML. When you format text using Markdown in a document, it is similar to using the format tools (e.g. bold, heading 1, heading 2) in a word processing tool like Microsoft Word or Google Docs. However, instead of using buttons to apply formatting, you use syntax."
   ]
  },
  {
   "cell_type": "markdown",
   "metadata": {},
   "source": [
    "Markdown syntax allows you to format text in many ways, such as making headings, bolding and italicizing words, creating bulleted lists, adding links, formatting mathematical symbols and making tables. These options allow you to format text in visually appealing and organized ways to present your ideas."
   ]
  },
  {
   "cell_type": "markdown",
   "metadata": {},
   "source": [
    "## 2.1 Text Styling<a id=\"ts\"></a>"
   ]
  },
  {
   "cell_type": "markdown",
   "metadata": {},
   "source": [
    "### 2.1.1 Bold / Italic"
   ]
  },
  {
   "cell_type": "markdown",
   "metadata": {},
   "source": [
    "You can add **bold** or *italic* text using the asterisk sign (\\*). You can highlight a block of text with two asterisks for \\*\\*bold\\*\\* text and one asterisk for \\*italic\\* text."
   ]
  },
  {
   "cell_type": "markdown",
   "metadata": {},
   "source": [
    "### 2.1.2 Headings"
   ]
  },
  {
   "cell_type": "markdown",
   "metadata": {},
   "source": [
    "Use the # sign followed by a blank space for notebook titles and subheadings."
   ]
  },
  {
   "cell_type": "markdown",
   "metadata": {},
   "source": [
    "- heading 1 --> \\#\n",
    "- heading 2 --> \\##\n",
    "- heading 3 --> \\###\n",
    "- heading 4 --> \\####\n",
    "- heading 5 --> \\#####\n",
    "- heading 6 --> \\######"
   ]
  },
  {
   "cell_type": "markdown",
   "metadata": {},
   "source": [
    "### 2.1.3 Blockquotes"
   ]
  },
  {
   "cell_type": "markdown",
   "metadata": {},
   "source": [
    "Blockquotes can highlight text and are indented. Add a blockquote using the symbol > followed by a space."
   ]
  },
  {
   "cell_type": "markdown",
   "metadata": {},
   "source": [
    "> This is a blockquote."
   ]
  },
  {
   "cell_type": "markdown",
   "metadata": {},
   "source": [
    "### 2.1.4 Line Break"
   ]
  },
  {
   "cell_type": "markdown",
   "metadata": {},
   "source": [
    "To add a line break in markdown text use the `<br>` tag, used in HTML language."
   ]
  },
  {
   "cell_type": "markdown",
   "metadata": {},
   "source": [
    "This is a line that will break <br>\n",
    "and continue on the next line."
   ]
  },
  {
   "cell_type": "markdown",
   "metadata": {},
   "source": [
    "### 2.1.5 Horizontal Line"
   ]
  },
  {
   "cell_type": "markdown",
   "metadata": {},
   "source": [
    "To add a horizontal line to your notebook, use three hyphens '---'."
   ]
  },
  {
   "cell_type": "markdown",
   "metadata": {},
   "source": [
    "Text above the line \n",
    "\n",
    "---\n",
    "Text below the line"
   ]
  },
  {
   "cell_type": "markdown",
   "metadata": {},
   "source": [
    "## 2.2 Lists<a id=\"li\"></a>"
   ]
  },
  {
   "cell_type": "markdown",
   "metadata": {},
   "source": [
    "You can add ordered or unordered lists by using asterisk (\\*) or dash (-) followed by a blank space for unordered lists and numbers followed by a blank space for ordered lists. By using identation you can create nested or enumerated lists."
   ]
  },
  {
   "cell_type": "markdown",
   "metadata": {},
   "source": [
    "### 2.2.1 Unordered List"
   ]
  },
  {
   "cell_type": "markdown",
   "metadata": {},
   "source": [
    "* first\n",
    "    * sub1\n",
    "* second\n",
    "* third\n",
    "    * sub3\n",
    "        * subsub3"
   ]
  },
  {
   "cell_type": "markdown",
   "metadata": {},
   "source": [
    "### 2.2.2 Ordered List"
   ]
  },
  {
   "cell_type": "markdown",
   "metadata": {},
   "source": [
    "1. one\n",
    "    1. sub1\n",
    "2. two\n",
    "3. three\n",
    "    1. sub3\n",
    "        1. subsub3"
   ]
  },
  {
   "cell_type": "markdown",
   "metadata": {},
   "source": [
    "## 2.3 Code & Mathematical Equations<a id=\"cme\"></a>"
   ]
  },
  {
   "cell_type": "markdown",
   "metadata": {},
   "source": [
    "### 2.3.1 Code Section"
   ]
  },
  {
   "cell_type": "markdown",
   "metadata": {},
   "source": [
    "You can add code sections in markdown cells using three backticks (\\`). If you want to highlight an inline code span you can use one back tick. If you want to insert a block of code, use three back ticks (\\`\\`\\`). If you specify the language in the beginning it will also color code as usual. "
   ]
  },
  {
   "cell_type": "markdown",
   "metadata": {},
   "source": [
    "The following code section `x = 5` sets the variable x equal 5."
   ]
  },
  {
   "cell_type": "markdown",
   "metadata": {},
   "source": [
    "Some Python code with colored highlighting:\n",
    "```python\n",
    "print('hello world!')\n",
    "```"
   ]
  },
  {
   "cell_type": "markdown",
   "metadata": {},
   "source": [
    "###  2.3.2 Mathematical Equations"
   ]
  },
  {
   "cell_type": "markdown",
   "metadata": {},
   "source": [
    "You can add mathematical equations to display your algorithms or formulas enclosing the equations in dollar signs. The mathematical operators are based on MathJax. You can find some basic documentation <a href=\"https://math.meta.stackexchange.com/questions/5020/mathjax-basic-tutorial-and-quick-reference\" >here</a>."
   ]
  },
  {
   "cell_type": "markdown",
   "metadata": {},
   "source": [
    "To add inline formulas use one \\\\$ sign, for display formulas use two \\\\$$ signs."
   ]
  },
  {
   "cell_type": "markdown",
   "metadata": {},
   "source": [
    "This is an $\\sum_{i=0}^n i^2 = \\frac{(n^2+n)(2n+1)}{6}$ inline equation."
   ]
  },
  {
   "cell_type": "markdown",
   "metadata": {},
   "source": [
    "Display Equation:\n",
    "$$\\sum_{i=0}^n i^2 = \\frac{(n^2+n)(2n+1)}{6}$$"
   ]
  },
  {
   "cell_type": "markdown",
   "metadata": {},
   "source": [
    "## 2.4 Links & Images<a id=\"l&i\"></a>"
   ]
  },
  {
   "cell_type": "markdown",
   "metadata": {},
   "source": [
    "### 2.4.1 Internal and External Links"
   ]
  },
  {
   "cell_type": "markdown",
   "metadata": {},
   "source": [
    "Internal links can be very useful for creating a table of contents for your workbook, or for allowing the reader to jump around between different sections. External links can be used to reference to external websites or sources."
   ]
  },
  {
   "cell_type": "markdown",
   "metadata": {},
   "source": [
    "Both internal and external links use the same structure as in HTML. A link starts with the opening tag `<a>` and ends with the closing tag `</a>`. The attribute 'href' also called hyper reference contains the destination address of the link or URL. The text between the opening and closing tags will be the visible hyperlink text."
   ]
  },
  {
   "cell_type": "markdown",
   "metadata": {},
   "source": [
    "#### External Links"
   ]
  },
  {
   "cell_type": "markdown",
   "metadata": {},
   "source": [
    "To create an **external link** copy paste the URL you would like to link to between the quotation marks of the href attribute.\n",
    "\n",
    "`<a href=\"YourURL\" >Link to your URL</a>`"
   ]
  },
  {
   "cell_type": "markdown",
   "metadata": {},
   "source": [
    "Example for an external link:<br>\n",
    "<a href=\"https://www.google.com/\" >Link to Google</a>"
   ]
  },
  {
   "cell_type": "markdown",
   "metadata": {},
   "source": [
    "#### Internal Links"
   ]
  },
  {
   "cell_type": "markdown",
   "metadata": {},
   "source": [
    "An **internal link** needs a unique ID defined by the attribute 'id' which it can link to. You have to place the ID at the location you would like to link to and reference it in your link. For internal links you can use one of two ways. The first is using the `<a>` tag as discussed above. The other is to use  parentheses.\n",
    "\n",
    "ID: `<a id=\"Your_ID\"></a>`<br>\n",
    "Link using the `<a>` tag: `<a href=\"#Your_ID\">Link to your ID</a>`<br>\n",
    "Link using parentheses: `[Link to your ID](#Your_ID)`<br>"
   ]
  },
  {
   "cell_type": "markdown",
   "metadata": {},
   "source": [
    "Example for an internal link to the table of contents:<br>\n",
    "Using `<a>` tag: <a href=\"#table_of_contents\">Link to Table of Contents</a><br>\n",
    "Using parentheses: [Link to Table of Contents](#table_of_contents)<br>"
   ]
  },
  {
   "cell_type": "markdown",
   "metadata": {},
   "source": [
    "#### Easy way for Table of Contents"
   ]
  },
  {
   "cell_type": "markdown",
   "metadata": {},
   "source": [
    "If you are using the links for your table of contents you do not have to set an id tag in your destination, if you have separate header cells. You can rather link directly to your destination using the text content of the \"header cell\" connected by dashes."
   ]
  },
  {
   "cell_type": "markdown",
   "metadata": {},
   "source": [
    "Example for table of contents header cell:<br>\n",
    "Using `<a>` tag: `<a href=\"#Table-of-Contents\">Link to Table of Contents</a>`<br>\n",
    "Using parentheses: `[Link to Table of Contents](#Table-of-Contents)`"
   ]
  },
  {
   "cell_type": "markdown",
   "metadata": {},
   "source": [
    "### 2.4.2 Images"
   ]
  },
  {
   "cell_type": "markdown",
   "metadata": {},
   "source": [
    "Images can further help you document and illustrate your work.\n",
    "There are basically 2 different options from which you can add images to your notebook:\n",
    "1. Image from local file\n",
    "2. Image from a URL"
   ]
  },
  {
   "cell_type": "markdown",
   "metadata": {},
   "source": [
    "#### Image from local file"
   ]
  },
  {
   "cell_type": "markdown",
   "metadata": {},
   "source": [
    "You can directly insert your image from the edit option in the ribbon."
   ]
  },
  {
   "attachments": {
    "Screenshot%202021-10-22%20195721.png": {
     "image/png": "[encoded data removed]"
    }
   },
   "cell_type": "markdown",
   "metadata": {},
   "source": [
    "![Screenshot%202021-10-22%20195721.png](attachment:Screenshot%202021-10-22%20195721.png)"
   ]
  },
  {
   "cell_type": "markdown",
   "metadata": {},
   "source": [
    "#### Image from URL"
   ]
  },
  {
   "cell_type": "markdown",
   "metadata": {},
   "source": [
    "To add an image from a URL you can use the image tags from the HTML language specifiying the source URL. You can also set height and width of your image and an alt text."
   ]
  },
  {
   "cell_type": "markdown",
   "metadata": {},
   "source": [
    "Your tag could look something like this `<img src=\"your source URL\" width=\"500\" alt=\"mountain view\">`"
   ]
  },
  {
   "cell_type": "markdown",
   "metadata": {},
   "source": [
    "<img src=\"https://github.com/RaminHz/JupyterHandbook/blob/master/image.jpg?raw=true\" width=\"500\" alt=\"mountain view\">"
   ]
  },
  {
   "cell_type": "markdown",
   "metadata": {},
   "source": [
    "If you would like to read more about markdown language be sure to check out the <a href=\"https://www.markdownguide.org/\">Markdown Guide</a>."
   ]
  }
 ],
 "metadata": {
  "interpreter": {
   "hash": "28861af353d46232545e995539505ceeddda1bd8112eeb4be0747b6e0963e4c0"
  },
  "kernelspec": {
   "display_name": "Python 3",
   "language": "python",
   "name": "python3"
  },
  "language_info": {
   "codemirror_mode": {
    "name": "ipython",
    "version": 3
   },
   "file_extension": ".py",
   "mimetype": "text/x-python",
   "name": "python",
   "nbconvert_exporter": "python",
   "pygments_lexer": "ipython3",
   "version": "3.7.4"
  }
 },
 "nbformat": 4,
 "nbformat_minor": 4
}
